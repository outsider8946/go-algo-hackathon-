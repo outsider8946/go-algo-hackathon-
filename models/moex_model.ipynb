{
  "nbformat": 4,
  "nbformat_minor": 0,
  "metadata": {
    "colab": {
      "provenance": [],
      "mount_file_id": "1lqhbeh1so-C-6sUhej2PfX-tzq3P2Jsz",
      "authorship_tag": "ABX9TyO1yACQcZ8aFnat2L5fp2Kx",
      "include_colab_link": true
    },
    "kernelspec": {
      "name": "python3",
      "display_name": "Python 3"
    },
    "language_info": {
      "name": "python"
    }
  },
  "cells": [
    {
      "cell_type": "markdown",
      "metadata": {
        "id": "view-in-github",
        "colab_type": "text"
      },
      "source": [
        "<a href=\"https://colab.research.google.com/github/outsider8946/go-algo-hackathon-/blob/main/models/moex_model.ipynb\" target=\"_parent\"><img src=\"https://colab.research.google.com/assets/colab-badge.svg\" alt=\"Open In Colab\"/></a>"
      ]
    },
    {
      "cell_type": "code",
      "execution_count": 21,
      "metadata": {
        "id": "PG58meZql6Wv"
      },
      "outputs": [],
      "source": [
        "import torch\n",
        "import torch.nn as nn\n",
        "import pandas as pd\n",
        "import numpy as np\n",
        "from matplotlib import pyplot as plt\n",
        "from sklearn.preprocessing import MinMaxScaler\n",
        "from torch.utils.data import Dataset, DataLoader"
      ]
    },
    {
      "cell_type": "code",
      "source": [
        "PATH_TO_DATA= '/content/drive/MyDrive/Colab Notebooks/goalgo_hac/data/'\n",
        "df = pd.read_csv(PATH_TO_DATA+'moex_tradestats.csv')"
      ],
      "metadata": {
        "id": "ZgK59ZGpmADN"
      },
      "execution_count": 11,
      "outputs": []
    },
    {
      "cell_type": "code",
      "source": [
        "df['target'].describe()"
      ],
      "metadata": {
        "colab": {
          "base_uri": "https://localhost:8080/"
        },
        "id": "F9WqTC-TmCL6",
        "outputId": "cb46a60f-318c-4181-ae8f-3589b7730b3c"
      },
      "execution_count": 7,
      "outputs": [
        {
          "output_type": "execute_result",
          "data": {
            "text/plain": [
              "count    16187.000000\n",
              "mean         0.003873\n",
              "std          0.897226\n",
              "min         -7.740000\n",
              "25%         -0.420000\n",
              "50%         -0.010000\n",
              "75%          0.420000\n",
              "max         13.940000\n",
              "Name: target, dtype: float64"
            ]
          },
          "metadata": {},
          "execution_count": 7
        }
      ]
    },
    {
      "cell_type": "code",
      "source": [
        "df = df.drop(['Unnamed: 0'],axis=1)\n",
        "df_numpy = df.to_numpy()\n",
        "feature_sc = MinMaxScaler(feature_range=(-1,1))\n",
        "df_numpy_scaled = feature_sc.fit_transform(df_numpy)"
      ],
      "metadata": {
        "id": "_1gIkA-TmXa-"
      },
      "execution_count": 12,
      "outputs": []
    },
    {
      "cell_type": "code",
      "source": [
        "X = []\n",
        "windows = 10\n",
        "cols = df_numpy_scaled.shape[1]\n",
        "\n",
        "for j in range(cols):\n",
        "  X.append([])\n",
        "  for i in range(windows, df_numpy_scaled.shape[0]):\n",
        "    X[j].append(df_numpy_scaled[i-windows:i, j])\n",
        "\n",
        "X=np.moveaxis(X, [0], [2])\n",
        "X, yi =np.array(X), np.array(df_numpy_scaled[windows:,-1])\n",
        "y=np.reshape(yi,(len(yi),1))"
      ],
      "metadata": {
        "id": "gtLQeIhdmpkY"
      },
      "execution_count": 14,
      "outputs": []
    },
    {
      "cell_type": "code",
      "source": [
        "splitlimit = int(X.shape[0]*0.8)\n",
        "X_train, X_test = X[:splitlimit], X[splitlimit:]\n",
        "y_train, y_test = y[:splitlimit], y[splitlimit:]\n",
        "\n",
        "X_train = torch.tensor(X_train).float()\n",
        "y_train = torch.tensor(y_train).float()\n",
        "X_test = torch.tensor(X_test).float()\n",
        "y_test = torch.tensor(y_test).float()\n",
        "\n",
        "X_train.shape, X_test.shape, y_train.shape, y_test.shape"
      ],
      "metadata": {
        "colab": {
          "base_uri": "https://localhost:8080/"
        },
        "id": "vb05Qeyym-Or",
        "outputId": "b4edea14-903a-46fb-9c1e-1415de2046dc"
      },
      "execution_count": 15,
      "outputs": [
        {
          "output_type": "execute_result",
          "data": {
            "text/plain": [
              "(torch.Size([12941, 10, 20]),\n",
              " torch.Size([3236, 10, 20]),\n",
              " torch.Size([12941, 1]),\n",
              " torch.Size([3236, 1]))"
            ]
          },
          "metadata": {},
          "execution_count": 15
        }
      ]
    },
    {
      "cell_type": "code",
      "source": [
        "class TimeSeriesDataset(Dataset):\n",
        "    def __init__(self, X, y):\n",
        "        self.X = X\n",
        "        self.y = y\n",
        "\n",
        "    def __len__(self):\n",
        "        return len(self.X)\n",
        "\n",
        "    def __getitem__(self, i):\n",
        "        return self.X[i], self.y[i]\n",
        "\n",
        "train_dataset = TimeSeriesDataset(X_train, y_train)\n",
        "test_dataset = TimeSeriesDataset(X_test, y_test)\n",
        "batch_size = 16\n",
        "train_loader = DataLoader(train_dataset, batch_size=batch_size, shuffle=True)\n",
        "test_loader = DataLoader(test_dataset, batch_size=batch_size, shuffle=False)"
      ],
      "metadata": {
        "id": "1d3CTpN0m_g4"
      },
      "execution_count": 18,
      "outputs": []
    },
    {
      "cell_type": "code",
      "source": [
        "device = \"cuda\" if torch.cuda.is_available() else \"cpu\"\n",
        "device"
      ],
      "metadata": {
        "colab": {
          "base_uri": "https://localhost:8080/",
          "height": 36
        },
        "id": "qw8j0OLhnXMM",
        "outputId": "7381c232-08ed-4227-ea26-c6c839e3ecc3"
      },
      "execution_count": 19,
      "outputs": [
        {
          "output_type": "execute_result",
          "data": {
            "text/plain": [
              "'cpu'"
            ],
            "application/vnd.google.colaboratory.intrinsic+json": {
              "type": "string"
            }
          },
          "metadata": {},
          "execution_count": 19
        }
      ]
    },
    {
      "cell_type": "code",
      "source": [
        "class ChangeModel(nn.Module):\n",
        "  def __init__(self,input_size, hidden_size,num_stacked_size):\n",
        "    super().__init__()\n",
        "    self.hidden_size = hidden_size\n",
        "    self.num_stacked_size = num_stacked_size\n",
        "    self.lstm = nn.LSTM(input_size,hidden_size,num_stacked_size,batch_first=True)\n",
        "    self.lin = nn.Linear(hidden_size,1)\n",
        "  def forward(self,x):\n",
        "    batch = x.size(0)\n",
        "    h0 = torch.zeros(self.num_stacked_size,batch,self.hidden_size).to(device)\n",
        "    c0 = torch.zeros(self.num_stacked_size,batch,self.hidden_size).to(device)\n",
        "    out,_ =self.lstm(x,(h0,c0))\n",
        "    out = self.lin(out[:,-1,:])\n",
        "    return out"
      ],
      "metadata": {
        "id": "4Ior6Rrqnbiz"
      },
      "execution_count": 20,
      "outputs": []
    },
    {
      "cell_type": "code",
      "source": [
        "model = ChangeModel(20,4,1)\n",
        "model.to(device)\n",
        "epochs = 30\n",
        "loss_function = nn.MSELoss()\n",
        "optim = torch.optim.Adam(model.parameters(),lr = 0.01)\n",
        "for epoch in range(epochs):\n",
        "   model.train(True)\n",
        "   print(f'Epoch: {epoch + 1}')\n",
        "   running_loss = 0.0\n",
        "\n",
        "   for batch_index, batch in enumerate(train_loader):\n",
        "      x_batch, y_batch = batch[0].to(device), batch[1].to(device)\n",
        "\n",
        "      output = model(x_batch)\n",
        "      loss = loss_function(output, y_batch)\n",
        "      running_loss += loss.item()\n",
        "\n",
        "      optim.zero_grad()\n",
        "      loss.backward()\n",
        "      optim.step()\n",
        "\n",
        "      if batch_index % 100 == 99:  # print every 100 batches\n",
        "          avg_loss_across_batches = running_loss / 100\n",
        "          print('Batch {0}, Loss: {1:.3f}'.format(batch_index+1,\n",
        "                                                  avg_loss_across_batches))\n",
        "      running_loss = 0.0\n",
        "   print()\n",
        "\n",
        "   model.train(False)\n",
        "   running_loss = 0.0\n",
        "\n",
        "   for batch_index, batch in enumerate(test_loader):\n",
        "        x_batch, y_batch = batch[0].to(device), batch[1].to(device)\n",
        "\n",
        "        with torch.no_grad():\n",
        "            output = model(x_batch)\n",
        "            loss = loss_function(output, y_batch)\n",
        "            running_loss += loss.item()\n",
        "\n",
        "   avg_loss_across_batches = running_loss / len(test_loader)\n",
        "\n",
        "   print('Val Loss: {0:.3f}'.format(avg_loss_across_batches))\n",
        "   print('***************************************************')\n",
        "   print()\n"
      ],
      "metadata": {
        "colab": {
          "base_uri": "https://localhost:8080/"
        },
        "id": "buImkZrvndik",
        "outputId": "f841dade-bf6b-45f8-fcf7-4e58a0b54068"
      },
      "execution_count": 36,
      "outputs": [
        {
          "output_type": "stream",
          "name": "stdout",
          "text": [
            "Epoch: 1\n",
            "Batch 100, Loss: 0.000\n",
            "Batch 200, Loss: 0.000\n",
            "Batch 300, Loss: 0.000\n",
            "Batch 400, Loss: 0.000\n",
            "Batch 500, Loss: 0.000\n",
            "Batch 600, Loss: 0.000\n",
            "Batch 700, Loss: 0.000\n",
            "Batch 800, Loss: 0.000\n",
            "\n",
            "Val Loss: 0.001\n",
            "***************************************************\n",
            "\n",
            "Epoch: 2\n",
            "Batch 100, Loss: 0.000\n",
            "Batch 200, Loss: 0.000\n",
            "Batch 300, Loss: 0.000\n",
            "Batch 400, Loss: 0.000\n",
            "Batch 500, Loss: 0.000\n",
            "Batch 600, Loss: 0.000\n",
            "Batch 700, Loss: 0.000\n",
            "Batch 800, Loss: 0.000\n",
            "\n",
            "Val Loss: 0.000\n",
            "***************************************************\n",
            "\n",
            "Epoch: 3\n",
            "Batch 100, Loss: 0.000\n",
            "Batch 200, Loss: 0.000\n",
            "Batch 300, Loss: 0.000\n",
            "Batch 400, Loss: 0.000\n",
            "Batch 500, Loss: 0.000\n",
            "Batch 600, Loss: 0.000\n",
            "Batch 700, Loss: 0.000\n",
            "Batch 800, Loss: 0.000\n",
            "\n",
            "Val Loss: 0.001\n",
            "***************************************************\n",
            "\n",
            "Epoch: 4\n",
            "Batch 100, Loss: 0.000\n",
            "Batch 200, Loss: 0.000\n",
            "Batch 300, Loss: 0.000\n",
            "Batch 400, Loss: 0.000\n",
            "Batch 500, Loss: 0.000\n",
            "Batch 600, Loss: 0.000\n",
            "Batch 700, Loss: 0.000\n",
            "Batch 800, Loss: 0.000\n",
            "\n",
            "Val Loss: 0.000\n",
            "***************************************************\n",
            "\n",
            "Epoch: 5\n",
            "Batch 100, Loss: 0.000\n",
            "Batch 200, Loss: 0.000\n",
            "Batch 300, Loss: 0.000\n",
            "Batch 400, Loss: 0.000\n",
            "Batch 500, Loss: 0.000\n",
            "Batch 600, Loss: 0.000\n",
            "Batch 700, Loss: 0.000\n",
            "Batch 800, Loss: 0.000\n",
            "\n",
            "Val Loss: 0.000\n",
            "***************************************************\n",
            "\n",
            "Epoch: 6\n",
            "Batch 100, Loss: 0.000\n",
            "Batch 200, Loss: 0.000\n",
            "Batch 300, Loss: 0.000\n",
            "Batch 400, Loss: 0.000\n",
            "Batch 500, Loss: 0.000\n",
            "Batch 600, Loss: 0.000\n",
            "Batch 700, Loss: 0.000\n",
            "Batch 800, Loss: 0.000\n",
            "\n",
            "Val Loss: 0.001\n",
            "***************************************************\n",
            "\n",
            "Epoch: 7\n",
            "Batch 100, Loss: 0.000\n",
            "Batch 200, Loss: 0.000\n",
            "Batch 300, Loss: 0.000\n",
            "Batch 400, Loss: 0.000\n",
            "Batch 500, Loss: 0.000\n",
            "Batch 600, Loss: 0.000\n",
            "Batch 700, Loss: 0.000\n",
            "Batch 800, Loss: 0.000\n",
            "\n",
            "Val Loss: 0.000\n",
            "***************************************************\n",
            "\n",
            "Epoch: 8\n",
            "Batch 100, Loss: 0.000\n",
            "Batch 200, Loss: 0.000\n",
            "Batch 300, Loss: 0.000\n",
            "Batch 400, Loss: 0.000\n",
            "Batch 500, Loss: 0.000\n",
            "Batch 600, Loss: 0.000\n",
            "Batch 700, Loss: 0.000\n",
            "Batch 800, Loss: 0.000\n",
            "\n",
            "Val Loss: 0.001\n",
            "***************************************************\n",
            "\n",
            "Epoch: 9\n",
            "Batch 100, Loss: 0.000\n",
            "Batch 200, Loss: 0.000\n",
            "Batch 300, Loss: 0.000\n",
            "Batch 400, Loss: 0.000\n",
            "Batch 500, Loss: 0.000\n",
            "Batch 600, Loss: 0.000\n",
            "Batch 700, Loss: 0.000\n",
            "Batch 800, Loss: 0.000\n",
            "\n",
            "Val Loss: 0.000\n",
            "***************************************************\n",
            "\n",
            "Epoch: 10\n",
            "Batch 100, Loss: 0.000\n",
            "Batch 200, Loss: 0.000\n",
            "Batch 300, Loss: 0.000\n",
            "Batch 400, Loss: 0.000\n",
            "Batch 500, Loss: 0.000\n",
            "Batch 600, Loss: 0.000\n",
            "Batch 700, Loss: 0.000\n",
            "Batch 800, Loss: 0.000\n",
            "\n",
            "Val Loss: 0.001\n",
            "***************************************************\n",
            "\n",
            "Epoch: 11\n",
            "Batch 100, Loss: 0.000\n",
            "Batch 200, Loss: 0.000\n",
            "Batch 300, Loss: 0.000\n",
            "Batch 400, Loss: 0.000\n",
            "Batch 500, Loss: 0.000\n",
            "Batch 600, Loss: 0.000\n",
            "Batch 700, Loss: 0.000\n",
            "Batch 800, Loss: 0.000\n",
            "\n",
            "Val Loss: 0.001\n",
            "***************************************************\n",
            "\n",
            "Epoch: 12\n",
            "Batch 100, Loss: 0.000\n",
            "Batch 200, Loss: 0.000\n",
            "Batch 300, Loss: 0.000\n",
            "Batch 400, Loss: 0.000\n",
            "Batch 500, Loss: 0.000\n",
            "Batch 600, Loss: 0.000\n",
            "Batch 700, Loss: 0.000\n",
            "Batch 800, Loss: 0.000\n",
            "\n",
            "Val Loss: 0.000\n",
            "***************************************************\n",
            "\n",
            "Epoch: 13\n",
            "Batch 100, Loss: 0.000\n",
            "Batch 200, Loss: 0.000\n",
            "Batch 300, Loss: 0.000\n",
            "Batch 400, Loss: 0.000\n",
            "Batch 500, Loss: 0.000\n",
            "Batch 600, Loss: 0.000\n",
            "Batch 700, Loss: 0.000\n",
            "Batch 800, Loss: 0.000\n",
            "\n",
            "Val Loss: 0.000\n",
            "***************************************************\n",
            "\n",
            "Epoch: 14\n",
            "Batch 100, Loss: 0.000\n",
            "Batch 200, Loss: 0.000\n",
            "Batch 300, Loss: 0.000\n",
            "Batch 400, Loss: 0.000\n",
            "Batch 500, Loss: 0.000\n",
            "Batch 600, Loss: 0.000\n",
            "Batch 700, Loss: 0.000\n",
            "Batch 800, Loss: 0.000\n",
            "\n",
            "Val Loss: 0.000\n",
            "***************************************************\n",
            "\n",
            "Epoch: 15\n",
            "Batch 100, Loss: 0.000\n",
            "Batch 200, Loss: 0.000\n",
            "Batch 300, Loss: 0.000\n",
            "Batch 400, Loss: 0.000\n",
            "Batch 500, Loss: 0.000\n",
            "Batch 600, Loss: 0.000\n",
            "Batch 700, Loss: 0.000\n",
            "Batch 800, Loss: 0.000\n",
            "\n",
            "Val Loss: 0.000\n",
            "***************************************************\n",
            "\n",
            "Epoch: 16\n",
            "Batch 100, Loss: 0.000\n",
            "Batch 200, Loss: 0.000\n",
            "Batch 300, Loss: 0.000\n",
            "Batch 400, Loss: 0.000\n",
            "Batch 500, Loss: 0.000\n",
            "Batch 600, Loss: 0.000\n",
            "Batch 700, Loss: 0.000\n",
            "Batch 800, Loss: 0.000\n",
            "\n",
            "Val Loss: 0.000\n",
            "***************************************************\n",
            "\n",
            "Epoch: 17\n",
            "Batch 100, Loss: 0.000\n",
            "Batch 200, Loss: 0.000\n",
            "Batch 300, Loss: 0.000\n",
            "Batch 400, Loss: 0.000\n",
            "Batch 500, Loss: 0.000\n",
            "Batch 600, Loss: 0.000\n",
            "Batch 700, Loss: 0.000\n",
            "Batch 800, Loss: 0.000\n",
            "\n",
            "Val Loss: 0.001\n",
            "***************************************************\n",
            "\n",
            "Epoch: 18\n",
            "Batch 100, Loss: 0.000\n",
            "Batch 200, Loss: 0.000\n",
            "Batch 300, Loss: 0.000\n",
            "Batch 400, Loss: 0.000\n",
            "Batch 500, Loss: 0.000\n",
            "Batch 600, Loss: 0.000\n",
            "Batch 700, Loss: 0.000\n",
            "Batch 800, Loss: 0.000\n",
            "\n",
            "Val Loss: 0.001\n",
            "***************************************************\n",
            "\n",
            "Epoch: 19\n",
            "Batch 100, Loss: 0.000\n",
            "Batch 200, Loss: 0.000\n",
            "Batch 300, Loss: 0.000\n",
            "Batch 400, Loss: 0.000\n",
            "Batch 500, Loss: 0.000\n",
            "Batch 600, Loss: 0.000\n",
            "Batch 700, Loss: 0.000\n",
            "Batch 800, Loss: 0.000\n",
            "\n",
            "Val Loss: 0.000\n",
            "***************************************************\n",
            "\n",
            "Epoch: 20\n",
            "Batch 100, Loss: 0.000\n",
            "Batch 200, Loss: 0.000\n",
            "Batch 300, Loss: 0.000\n",
            "Batch 400, Loss: 0.000\n",
            "Batch 500, Loss: 0.000\n",
            "Batch 600, Loss: 0.000\n",
            "Batch 700, Loss: 0.000\n",
            "Batch 800, Loss: 0.000\n",
            "\n",
            "Val Loss: 0.001\n",
            "***************************************************\n",
            "\n",
            "Epoch: 21\n",
            "Batch 100, Loss: 0.000\n",
            "Batch 200, Loss: 0.000\n",
            "Batch 300, Loss: 0.000\n",
            "Batch 400, Loss: 0.000\n",
            "Batch 500, Loss: 0.000\n",
            "Batch 600, Loss: 0.000\n",
            "Batch 700, Loss: 0.000\n",
            "Batch 800, Loss: 0.000\n",
            "\n",
            "Val Loss: 0.000\n",
            "***************************************************\n",
            "\n",
            "Epoch: 22\n",
            "Batch 100, Loss: 0.000\n",
            "Batch 200, Loss: 0.000\n",
            "Batch 300, Loss: 0.000\n",
            "Batch 400, Loss: 0.000\n",
            "Batch 500, Loss: 0.000\n",
            "Batch 600, Loss: 0.000\n",
            "Batch 700, Loss: 0.000\n",
            "Batch 800, Loss: 0.000\n",
            "\n",
            "Val Loss: 0.000\n",
            "***************************************************\n",
            "\n",
            "Epoch: 23\n",
            "Batch 100, Loss: 0.000\n",
            "Batch 200, Loss: 0.000\n",
            "Batch 300, Loss: 0.000\n",
            "Batch 400, Loss: 0.000\n",
            "Batch 500, Loss: 0.000\n",
            "Batch 600, Loss: 0.000\n",
            "Batch 700, Loss: 0.000\n",
            "Batch 800, Loss: 0.000\n",
            "\n",
            "Val Loss: 0.000\n",
            "***************************************************\n",
            "\n",
            "Epoch: 24\n",
            "Batch 100, Loss: 0.000\n",
            "Batch 200, Loss: 0.000\n",
            "Batch 300, Loss: 0.000\n",
            "Batch 400, Loss: 0.000\n",
            "Batch 500, Loss: 0.000\n",
            "Batch 600, Loss: 0.000\n",
            "Batch 700, Loss: 0.000\n",
            "Batch 800, Loss: 0.000\n",
            "\n",
            "Val Loss: 0.000\n",
            "***************************************************\n",
            "\n",
            "Epoch: 25\n",
            "Batch 100, Loss: 0.000\n",
            "Batch 200, Loss: 0.000\n",
            "Batch 300, Loss: 0.000\n",
            "Batch 400, Loss: 0.000\n",
            "Batch 500, Loss: 0.000\n",
            "Batch 600, Loss: 0.000\n",
            "Batch 700, Loss: 0.000\n",
            "Batch 800, Loss: 0.000\n",
            "\n",
            "Val Loss: 0.000\n",
            "***************************************************\n",
            "\n",
            "Epoch: 26\n",
            "Batch 100, Loss: 0.000\n",
            "Batch 200, Loss: 0.000\n",
            "Batch 300, Loss: 0.000\n",
            "Batch 400, Loss: 0.000\n",
            "Batch 500, Loss: 0.000\n",
            "Batch 600, Loss: 0.000\n",
            "Batch 700, Loss: 0.000\n",
            "Batch 800, Loss: 0.000\n",
            "\n",
            "Val Loss: 0.001\n",
            "***************************************************\n",
            "\n",
            "Epoch: 27\n",
            "Batch 100, Loss: 0.000\n",
            "Batch 200, Loss: 0.000\n",
            "Batch 300, Loss: 0.000\n",
            "Batch 400, Loss: 0.000\n",
            "Batch 500, Loss: 0.000\n",
            "Batch 600, Loss: 0.000\n",
            "Batch 700, Loss: 0.000\n",
            "Batch 800, Loss: 0.000\n",
            "\n",
            "Val Loss: 0.000\n",
            "***************************************************\n",
            "\n",
            "Epoch: 28\n",
            "Batch 100, Loss: 0.000\n",
            "Batch 200, Loss: 0.000\n",
            "Batch 300, Loss: 0.000\n",
            "Batch 400, Loss: 0.000\n",
            "Batch 500, Loss: 0.000\n",
            "Batch 600, Loss: 0.000\n",
            "Batch 700, Loss: 0.000\n",
            "Batch 800, Loss: 0.000\n",
            "\n",
            "Val Loss: 0.000\n",
            "***************************************************\n",
            "\n",
            "Epoch: 29\n",
            "Batch 100, Loss: 0.000\n",
            "Batch 200, Loss: 0.000\n",
            "Batch 300, Loss: 0.000\n",
            "Batch 400, Loss: 0.000\n",
            "Batch 500, Loss: 0.000\n",
            "Batch 600, Loss: 0.000\n",
            "Batch 700, Loss: 0.000\n",
            "Batch 800, Loss: 0.000\n",
            "\n",
            "Val Loss: 0.000\n",
            "***************************************************\n",
            "\n",
            "Epoch: 30\n",
            "Batch 100, Loss: 0.000\n",
            "Batch 200, Loss: 0.000\n",
            "Batch 300, Loss: 0.000\n",
            "Batch 400, Loss: 0.000\n",
            "Batch 500, Loss: 0.000\n",
            "Batch 600, Loss: 0.000\n",
            "Batch 700, Loss: 0.000\n",
            "Batch 800, Loss: 0.000\n",
            "\n",
            "Val Loss: 0.001\n",
            "***************************************************\n",
            "\n"
          ]
        }
      ]
    },
    {
      "cell_type": "code",
      "source": [
        "with torch.no_grad():\n",
        "    predicted = model(X_train.to(device)).to('cpu').numpy()\n",
        "\n",
        "plt.title('Train score')\n",
        "plt.plot(y_train, label='Actual target')\n",
        "plt.plot(predicted, label='Predicted target')\n",
        "plt.xlabel('time')\n",
        "plt.ylabel('target')\n",
        "plt.legend()\n",
        "plt.show()"
      ],
      "metadata": {
        "colab": {
          "base_uri": "https://localhost:8080/",
          "height": 472
        },
        "id": "V8sUrPyqniqc",
        "outputId": "32b10d65-59bd-4358-e249-a98bbbfb35e0"
      },
      "execution_count": 39,
      "outputs": [
        {
          "output_type": "display_data",
          "data": {
            "text/plain": [
              "<Figure size 640x480 with 1 Axes>"
            ],
            "image/png": "[encoded data removed]"
          },
          "metadata": {}
        }
      ]
    },
    {
      "cell_type": "code",
      "source": [
        "with torch.no_grad():\n",
        "    predicted = model(X_test.to(device)).to('cpu').numpy()\n",
        "\n",
        "plt.title('Valid score')\n",
        "plt.plot(y_test, label='Actual target')\n",
        "plt.plot(predicted, label='Predicted target')\n",
        "plt.xlabel('time')\n",
        "plt.ylabel('target')\n",
        "plt.legend()\n",
        "plt.show()"
      ],
      "metadata": {
        "colab": {
          "base_uri": "https://localhost:8080/",
          "height": 472
        },
        "id": "6oPQN9FbnlsC",
        "outputId": "3ee6bfa2-08c7-4d61-e61e-b7d1a39e42c1"
      },
      "execution_count": 40,
      "outputs": [
        {
          "output_type": "display_data",
          "data": {
            "text/plain": [
              "<Figure size 640x480 with 1 Axes>"
            ],
            "image/png": "[encoded data removed]"
          },
          "metadata": {}
        }
      ]
    },
    {
      "cell_type": "code",
      "source": [
        "PATH_TO_MODEL = '/content/drive/MyDrive/Colab Notebooks/goalgo_hac/models/'\n",
        "torch.save(model,PATH_TO_MODEL+'moex_model.pt')"
      ],
      "metadata": {
        "id": "KDnojwdPq3iv"
      },
      "execution_count": 41,
      "outputs": []
    },
    {
      "cell_type": "code",
      "source": [
        "test_model = ChangeModel(20,4,1)\n",
        "test_model = torch.load(PATH_TO_MODEL+'moex_model.pt')\n",
        "test_model.eval()"
      ],
      "metadata": {
        "colab": {
          "base_uri": "https://localhost:8080/"
        },
        "id": "A5O4jh7YrSSC",
        "outputId": "69778b3c-c1dc-4640-ec64-13c9764ee274"
      },
      "execution_count": 42,
      "outputs": [
        {
          "output_type": "execute_result",
          "data": {
            "text/plain": [
              "ChangeModel(\n",
              "  (lstm): LSTM(20, 4, batch_first=True)\n",
              "  (lin): Linear(in_features=4, out_features=1, bias=True)\n",
              ")"
            ]
          },
          "metadata": {},
          "execution_count": 42
        }
      ]
    }
  ]
}