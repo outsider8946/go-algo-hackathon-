{
  "nbformat": 4,
  "nbformat_minor": 0,
  "metadata": {
    "colab": {
      "provenance": []
    },
    "kernelspec": {
      "name": "python3",
      "display_name": "Python 3"
    },
    "language_info": {
      "name": "python"
    }
  },
  "cells": [
    {
      "cell_type": "code",
      "execution_count": 17,
      "metadata": {
        "id": "PG58meZql6Wv"
      },
      "outputs": [],
      "source": [
        "import torch\n",
        "import torch.nn as nn\n",
        "import pandas as pd\n",
        "import numpy as np\n",
        "from matplotlib import pyplot as plt\n",
        "from sklearn.preprocessing import MinMaxScaler\n",
        "from torch.utils.data import Dataset, DataLoader"
      ]
    },
    {
      "cell_type": "code",
      "source": [
        "PATH_TO_DATA = '/content/drive/MyDrive/go_algo/data/'\n",
        "df = pd.read_csv(PATH_TO_DATA + 'flot_tradestats.csv')"
      ],
      "metadata": {
        "id": "ZgK59ZGpmADN"
      },
      "execution_count": 18,
      "outputs": []
    },
    {
      "cell_type": "code",
      "source": [
        "from google.colab import drive\n",
        "drive.mount('/content/drive')"
      ],
      "metadata": {
        "colab": {
          "base_uri": "https://localhost:8080/"
        },
        "id": "a6pSk1-HgBq-",
        "outputId": "619988bc-1437-456d-fd45-9455a7b0c6d4"
      },
      "execution_count": 19,
      "outputs": [
        {
          "output_type": "stream",
          "name": "stdout",
          "text": [
            "Drive already mounted at /content/drive; to attempt to forcibly remount, call drive.mount(\"/content/drive\", force_remount=True).\n"
          ]
        }
      ]
    },
    {
      "cell_type": "code",
      "source": [
        "df['target'].describe()"
      ],
      "metadata": {
        "colab": {
          "base_uri": "https://localhost:8080/"
        },
        "id": "F9WqTC-TmCL6",
        "outputId": "4d5e1584-79b3-4e84-be68-1a1081501758"
      },
      "execution_count": 20,
      "outputs": [
        {
          "output_type": "execute_result",
          "data": {
            "text/plain": [
              "count    11962.000000\n",
              "mean        -0.042033\n",
              "std          0.681318\n",
              "min         -7.710000\n",
              "25%         -0.280000\n",
              "50%         -0.050000\n",
              "75%          0.180000\n",
              "max          9.490000\n",
              "Name: target, dtype: float64"
            ]
          },
          "metadata": {},
          "execution_count": 20
        }
      ]
    },
    {
      "cell_type": "code",
      "source": [
        "df = df.drop(['Unnamed: 0'],axis=1)\n",
        "df_numpy = df.to_numpy()\n",
        "feature_sc = MinMaxScaler(feature_range=(-1,1))\n",
        "df_numpy_scaled = feature_sc.fit_transform(df_numpy)"
      ],
      "metadata": {
        "id": "_1gIkA-TmXa-"
      },
      "execution_count": 21,
      "outputs": []
    },
    {
      "cell_type": "code",
      "source": [
        "X = []\n",
        "windows = 10\n",
        "cols = df_numpy_scaled.shape[1]\n",
        "\n",
        "for j in range(cols):\n",
        "  X.append([])\n",
        "  for i in range(windows, df_numpy_scaled.shape[0]):\n",
        "    X[j].append(df_numpy_scaled[i-windows:i, j])\n",
        "\n",
        "X=np.moveaxis(X, [0], [2])\n",
        "X, yi =np.array(X), np.array(df_numpy_scaled[windows:,-1])\n",
        "y=np.reshape(yi,(len(yi),1))"
      ],
      "metadata": {
        "id": "gtLQeIhdmpkY"
      },
      "execution_count": 22,
      "outputs": []
    },
    {
      "cell_type": "code",
      "source": [
        "splitlimit = int(X.shape[0]*0.8)\n",
        "X_train, X_test = X[:splitlimit], X[splitlimit:]\n",
        "y_train, y_test = y[:splitlimit], y[splitlimit:]\n",
        "\n",
        "X_train = torch.tensor(X_train).float()\n",
        "y_train = torch.tensor(y_train).float()\n",
        "X_test = torch.tensor(X_test).float()\n",
        "y_test = torch.tensor(y_test).float()\n",
        "\n",
        "X_train.shape, X_test.shape, y_train.shape, y_test.shape"
      ],
      "metadata": {
        "colab": {
          "base_uri": "https://localhost:8080/"
        },
        "id": "vb05Qeyym-Or",
        "outputId": "a04b7899-8436-446d-f5ba-c7d234fef9c5"
      },
      "execution_count": 23,
      "outputs": [
        {
          "output_type": "execute_result",
          "data": {
            "text/plain": [
              "(torch.Size([9561, 10, 20]),\n",
              " torch.Size([2391, 10, 20]),\n",
              " torch.Size([9561, 1]),\n",
              " torch.Size([2391, 1]))"
            ]
          },
          "metadata": {},
          "execution_count": 23
        }
      ]
    },
    {
      "cell_type": "code",
      "source": [
        "class TimeSeriesDataset(Dataset):\n",
        "    def __init__(self, X, y):\n",
        "        self.X = X\n",
        "        self.y = y\n",
        "\n",
        "    def __len__(self):\n",
        "        return len(self.X)\n",
        "\n",
        "    def __getitem__(self, i):\n",
        "        return self.X[i], self.y[i]\n",
        "\n",
        "train_dataset = TimeSeriesDataset(X_train, y_train)\n",
        "test_dataset = TimeSeriesDataset(X_test, y_test)\n",
        "batch_size = 16\n",
        "train_loader = DataLoader(train_dataset, batch_size=batch_size, shuffle=True)\n",
        "test_loader = DataLoader(test_dataset, batch_size=batch_size, shuffle=False)"
      ],
      "metadata": {
        "id": "1d3CTpN0m_g4"
      },
      "execution_count": 24,
      "outputs": []
    },
    {
      "cell_type": "code",
      "source": [
        "device = \"cuda\" if torch.cuda.is_available() else \"cpu\"\n",
        "device"
      ],
      "metadata": {
        "colab": {
          "base_uri": "https://localhost:8080/",
          "height": 35
        },
        "id": "qw8j0OLhnXMM",
        "outputId": "2bd14c59-5fbb-4e7f-8d9e-c9f69dd072dd"
      },
      "execution_count": 25,
      "outputs": [
        {
          "output_type": "execute_result",
          "data": {
            "text/plain": [
              "'cpu'"
            ],
            "application/vnd.google.colaboratory.intrinsic+json": {
              "type": "string"
            }
          },
          "metadata": {},
          "execution_count": 25
        }
      ]
    },
    {
      "cell_type": "code",
      "source": [
        "class ChangeModel(nn.Module):\n",
        "  def __init__(self,input_size, hidden_size,num_stacked_size):\n",
        "    super().__init__()\n",
        "    self.hidden_size = hidden_size\n",
        "    self.num_stacked_size = num_stacked_size\n",
        "    self.lstm = nn.LSTM(input_size,hidden_size,num_stacked_size,batch_first=True)\n",
        "    self.lin = nn.Linear(hidden_size,1)\n",
        "  def forward(self,x):\n",
        "    batch = x.size(0)\n",
        "    h0 = torch.zeros(self.num_stacked_size,batch,self.hidden_size).to(device)\n",
        "    c0 = torch.zeros(self.num_stacked_size,batch,self.hidden_size).to(device)\n",
        "    out,_ =self.lstm(x,(h0,c0))\n",
        "    out = self.lin(out[:,-1,:])\n",
        "    return out"
      ],
      "metadata": {
        "id": "4Ior6Rrqnbiz"
      },
      "execution_count": 26,
      "outputs": []
    },
    {
      "cell_type": "code",
      "source": [
        "model = ChangeModel(20,4,1)\n",
        "model.to(device)\n",
        "epochs = 30\n",
        "loss_function = nn.MSELoss()\n",
        "optim = torch.optim.Adam(model.parameters(),lr = 0.01)\n",
        "for epoch in range(epochs):\n",
        "   model.train(True)\n",
        "   print(f'Epoch: {epoch + 1}')\n",
        "   running_loss = 0.0\n",
        "\n",
        "   for batch_index, batch in enumerate(train_loader):\n",
        "      x_batch, y_batch = batch[0].to(device), batch[1].to(device)\n",
        "\n",
        "      output = model(x_batch)\n",
        "      loss = loss_function(output, y_batch)\n",
        "      running_loss += loss.item()\n",
        "\n",
        "      optim.zero_grad()\n",
        "      loss.backward()\n",
        "      optim.step()\n",
        "\n",
        "      if batch_index % 100 == 99:  # print every 100 batches\n",
        "          avg_loss_across_batches = running_loss / 100\n",
        "          print('Batch {0}, Loss: {1:.3f}'.format(batch_index+1,\n",
        "                                                  avg_loss_across_batches))\n",
        "      running_loss = 0.0\n",
        "   print()\n",
        "\n",
        "   model.train(False)\n",
        "   running_loss = 0.0\n",
        "\n",
        "   for batch_index, batch in enumerate(test_loader):\n",
        "        x_batch, y_batch = batch[0].to(device), batch[1].to(device)\n",
        "\n",
        "        with torch.no_grad():\n",
        "            output = model(x_batch)\n",
        "            loss = loss_function(output, y_batch)\n",
        "            running_loss += loss.item()\n",
        "\n",
        "   avg_loss_across_batches = running_loss / len(test_loader)\n",
        "\n",
        "   print('Val Loss: {0:.3f}'.format(avg_loss_across_batches))\n",
        "   print('***************************************************')\n",
        "   print()\n"
      ],
      "metadata": {
        "colab": {
          "base_uri": "https://localhost:8080/"
        },
        "id": "buImkZrvndik",
        "outputId": "b4ac8bda-3738-4454-b5c4-04664161ce4a"
      },
      "execution_count": 27,
      "outputs": [
        {
          "output_type": "stream",
          "name": "stdout",
          "text": [
            "Epoch: 1\n",
            "Batch 100, Loss: 0.000\n",
            "Batch 200, Loss: 0.000\n",
            "Batch 300, Loss: 0.000\n",
            "Batch 400, Loss: 0.000\n",
            "Batch 500, Loss: 0.000\n",
            "\n",
            "Val Loss: 0.003\n",
            "***************************************************\n",
            "\n",
            "Epoch: 2\n",
            "Batch 100, Loss: 0.000\n",
            "Batch 200, Loss: 0.000\n",
            "Batch 300, Loss: 0.000\n",
            "Batch 400, Loss: 0.000\n",
            "Batch 500, Loss: 0.000\n",
            "\n",
            "Val Loss: 0.002\n",
            "***************************************************\n",
            "\n",
            "Epoch: 3\n",
            "Batch 100, Loss: 0.000\n",
            "Batch 200, Loss: 0.000\n",
            "Batch 300, Loss: 0.000\n",
            "Batch 400, Loss: 0.000\n",
            "Batch 500, Loss: 0.000\n",
            "\n",
            "Val Loss: 0.002\n",
            "***************************************************\n",
            "\n",
            "Epoch: 4\n",
            "Batch 100, Loss: 0.000\n",
            "Batch 200, Loss: 0.000\n",
            "Batch 300, Loss: 0.000\n",
            "Batch 400, Loss: 0.000\n",
            "Batch 500, Loss: 0.000\n",
            "\n",
            "Val Loss: 0.002\n",
            "***************************************************\n",
            "\n",
            "Epoch: 5\n",
            "Batch 100, Loss: 0.000\n",
            "Batch 200, Loss: 0.000\n",
            "Batch 300, Loss: 0.000\n",
            "Batch 400, Loss: 0.000\n",
            "Batch 500, Loss: 0.000\n",
            "\n",
            "Val Loss: 0.001\n",
            "***************************************************\n",
            "\n",
            "Epoch: 6\n",
            "Batch 100, Loss: 0.000\n",
            "Batch 200, Loss: 0.000\n",
            "Batch 300, Loss: 0.000\n",
            "Batch 400, Loss: 0.000\n",
            "Batch 500, Loss: 0.000\n",
            "\n",
            "Val Loss: 0.002\n",
            "***************************************************\n",
            "\n",
            "Epoch: 7\n",
            "Batch 100, Loss: 0.000\n",
            "Batch 200, Loss: 0.000\n",
            "Batch 300, Loss: 0.000\n",
            "Batch 400, Loss: 0.000\n",
            "Batch 500, Loss: 0.000\n",
            "\n",
            "Val Loss: 0.001\n",
            "***************************************************\n",
            "\n",
            "Epoch: 8\n",
            "Batch 100, Loss: 0.000\n",
            "Batch 200, Loss: 0.000\n",
            "Batch 300, Loss: 0.000\n",
            "Batch 400, Loss: 0.000\n",
            "Batch 500, Loss: 0.000\n",
            "\n",
            "Val Loss: 0.002\n",
            "***************************************************\n",
            "\n",
            "Epoch: 9\n",
            "Batch 100, Loss: 0.000\n",
            "Batch 200, Loss: 0.000\n",
            "Batch 300, Loss: 0.000\n",
            "Batch 400, Loss: 0.000\n",
            "Batch 500, Loss: 0.000\n",
            "\n",
            "Val Loss: 0.002\n",
            "***************************************************\n",
            "\n",
            "Epoch: 10\n",
            "Batch 100, Loss: 0.000\n",
            "Batch 200, Loss: 0.000\n",
            "Batch 300, Loss: 0.000\n",
            "Batch 400, Loss: 0.000\n",
            "Batch 500, Loss: 0.000\n",
            "\n",
            "Val Loss: 0.002\n",
            "***************************************************\n",
            "\n",
            "Epoch: 11\n",
            "Batch 100, Loss: 0.000\n",
            "Batch 200, Loss: 0.000\n",
            "Batch 300, Loss: 0.000\n",
            "Batch 400, Loss: 0.000\n",
            "Batch 500, Loss: 0.000\n",
            "\n",
            "Val Loss: 0.002\n",
            "***************************************************\n",
            "\n",
            "Epoch: 12\n",
            "Batch 100, Loss: 0.000\n",
            "Batch 200, Loss: 0.000\n",
            "Batch 300, Loss: 0.000\n",
            "Batch 400, Loss: 0.000\n",
            "Batch 500, Loss: 0.000\n",
            "\n",
            "Val Loss: 0.009\n",
            "***************************************************\n",
            "\n",
            "Epoch: 13\n",
            "Batch 100, Loss: 0.000\n",
            "Batch 200, Loss: 0.000\n",
            "Batch 300, Loss: 0.000\n",
            "Batch 400, Loss: 0.000\n",
            "Batch 500, Loss: 0.000\n",
            "\n",
            "Val Loss: 0.002\n",
            "***************************************************\n",
            "\n",
            "Epoch: 14\n",
            "Batch 100, Loss: 0.000\n",
            "Batch 200, Loss: 0.000\n",
            "Batch 300, Loss: 0.000\n",
            "Batch 400, Loss: 0.000\n",
            "Batch 500, Loss: 0.000\n",
            "\n",
            "Val Loss: 0.002\n",
            "***************************************************\n",
            "\n",
            "Epoch: 15\n",
            "Batch 100, Loss: 0.000\n",
            "Batch 200, Loss: 0.000\n",
            "Batch 300, Loss: 0.000\n",
            "Batch 400, Loss: 0.000\n",
            "Batch 500, Loss: 0.000\n",
            "\n",
            "Val Loss: 0.002\n",
            "***************************************************\n",
            "\n",
            "Epoch: 16\n",
            "Batch 100, Loss: 0.000\n",
            "Batch 200, Loss: 0.000\n",
            "Batch 300, Loss: 0.000\n",
            "Batch 400, Loss: 0.000\n",
            "Batch 500, Loss: 0.000\n",
            "\n",
            "Val Loss: 0.002\n",
            "***************************************************\n",
            "\n",
            "Epoch: 17\n",
            "Batch 100, Loss: 0.000\n",
            "Batch 200, Loss: 0.000\n",
            "Batch 300, Loss: 0.000\n",
            "Batch 400, Loss: 0.000\n",
            "Batch 500, Loss: 0.000\n",
            "\n",
            "Val Loss: 0.002\n",
            "***************************************************\n",
            "\n",
            "Epoch: 18\n",
            "Batch 100, Loss: 0.000\n",
            "Batch 200, Loss: 0.000\n",
            "Batch 300, Loss: 0.000\n",
            "Batch 400, Loss: 0.000\n",
            "Batch 500, Loss: 0.000\n",
            "\n",
            "Val Loss: 0.002\n",
            "***************************************************\n",
            "\n",
            "Epoch: 19\n",
            "Batch 100, Loss: 0.000\n",
            "Batch 200, Loss: 0.000\n",
            "Batch 300, Loss: 0.000\n",
            "Batch 400, Loss: 0.000\n",
            "Batch 500, Loss: 0.000\n",
            "\n",
            "Val Loss: 0.002\n",
            "***************************************************\n",
            "\n",
            "Epoch: 20\n",
            "Batch 100, Loss: 0.000\n",
            "Batch 200, Loss: 0.000\n",
            "Batch 300, Loss: 0.000\n",
            "Batch 400, Loss: 0.000\n",
            "Batch 500, Loss: 0.000\n",
            "\n",
            "Val Loss: 0.002\n",
            "***************************************************\n",
            "\n",
            "Epoch: 21\n",
            "Batch 100, Loss: 0.000\n",
            "Batch 200, Loss: 0.000\n",
            "Batch 300, Loss: 0.000\n",
            "Batch 400, Loss: 0.000\n",
            "Batch 500, Loss: 0.000\n",
            "\n",
            "Val Loss: 0.002\n",
            "***************************************************\n",
            "\n",
            "Epoch: 22\n",
            "Batch 100, Loss: 0.000\n",
            "Batch 200, Loss: 0.000\n",
            "Batch 300, Loss: 0.000\n",
            "Batch 400, Loss: 0.000\n",
            "Batch 500, Loss: 0.000\n",
            "\n",
            "Val Loss: 0.003\n",
            "***************************************************\n",
            "\n",
            "Epoch: 23\n",
            "Batch 100, Loss: 0.000\n",
            "Batch 200, Loss: 0.000\n",
            "Batch 300, Loss: 0.000\n",
            "Batch 400, Loss: 0.000\n",
            "Batch 500, Loss: 0.000\n",
            "\n",
            "Val Loss: 0.003\n",
            "***************************************************\n",
            "\n",
            "Epoch: 24\n",
            "Batch 100, Loss: 0.000\n",
            "Batch 200, Loss: 0.000\n",
            "Batch 300, Loss: 0.000\n",
            "Batch 400, Loss: 0.000\n",
            "Batch 500, Loss: 0.000\n",
            "\n",
            "Val Loss: 0.002\n",
            "***************************************************\n",
            "\n",
            "Epoch: 25\n",
            "Batch 100, Loss: 0.000\n",
            "Batch 200, Loss: 0.000\n",
            "Batch 300, Loss: 0.000\n",
            "Batch 400, Loss: 0.000\n",
            "Batch 500, Loss: 0.000\n",
            "\n",
            "Val Loss: 0.003\n",
            "***************************************************\n",
            "\n",
            "Epoch: 26\n",
            "Batch 100, Loss: 0.000\n",
            "Batch 200, Loss: 0.000\n",
            "Batch 300, Loss: 0.000\n",
            "Batch 400, Loss: 0.000\n",
            "Batch 500, Loss: 0.000\n",
            "\n",
            "Val Loss: 0.002\n",
            "***************************************************\n",
            "\n",
            "Epoch: 27\n",
            "Batch 100, Loss: 0.000\n",
            "Batch 200, Loss: 0.000\n",
            "Batch 300, Loss: 0.000\n",
            "Batch 400, Loss: 0.000\n",
            "Batch 500, Loss: 0.000\n",
            "\n",
            "Val Loss: 0.002\n",
            "***************************************************\n",
            "\n",
            "Epoch: 28\n",
            "Batch 100, Loss: 0.000\n",
            "Batch 200, Loss: 0.000\n",
            "Batch 300, Loss: 0.000\n",
            "Batch 400, Loss: 0.000\n",
            "Batch 500, Loss: 0.000\n",
            "\n",
            "Val Loss: 0.003\n",
            "***************************************************\n",
            "\n",
            "Epoch: 29\n",
            "Batch 100, Loss: 0.000\n",
            "Batch 200, Loss: 0.000\n",
            "Batch 300, Loss: 0.000\n",
            "Batch 400, Loss: 0.000\n",
            "Batch 500, Loss: 0.000\n",
            "\n",
            "Val Loss: 0.003\n",
            "***************************************************\n",
            "\n",
            "Epoch: 30\n",
            "Batch 100, Loss: 0.000\n",
            "Batch 200, Loss: 0.000\n",
            "Batch 300, Loss: 0.000\n",
            "Batch 400, Loss: 0.000\n",
            "Batch 500, Loss: 0.000\n",
            "\n",
            "Val Loss: 0.002\n",
            "***************************************************\n",
            "\n"
          ]
        }
      ]
    },
    {
      "cell_type": "code",
      "source": [
        "with torch.no_grad():\n",
        "    predicted = model(X_train.to(device)).to('cpu').numpy()\n",
        "\n",
        "plt.title('Train score')\n",
        "plt.plot(y_train, label='Actual target')\n",
        "plt.plot(predicted, label='Predicted target')\n",
        "plt.xlabel('time')\n",
        "plt.ylabel('target')\n",
        "plt.legend()\n",
        "plt.show()"
      ],
      "metadata": {
        "colab": {
          "base_uri": "https://localhost:8080/",
          "height": 472
        },
        "id": "V8sUrPyqniqc",
        "outputId": "cb76a8a8-931b-44b4-ebba-0d6dcddc43c8"
      },
      "execution_count": 28,
      "outputs": [
        {
          "output_type": "display_data",
          "data": {
            "text/plain": [
              "<Figure size 640x480 with 1 Axes>"
            ],
            "image/png": "[encoded data removed]"
          },
          "metadata": {}
        }
      ]
    },
    {
      "cell_type": "code",
      "source": [
        "with torch.no_grad():\n",
        "    predicted = model(X_test.to(device)).to('cpu').numpy()\n",
        "\n",
        "plt.title('Valid score')\n",
        "plt.plot(y_test, label='Actual target')\n",
        "plt.plot(predicted, label='Predicted target')\n",
        "plt.xlabel('time')\n",
        "plt.ylabel('target')\n",
        "plt.legend()\n",
        "plt.show()"
      ],
      "metadata": {
        "colab": {
          "base_uri": "https://localhost:8080/",
          "height": 472
        },
        "id": "6oPQN9FbnlsC",
        "outputId": "d41d4e50-c07b-4397-c5d5-c2bf0d86ad09"
      },
      "execution_count": 29,
      "outputs": [
        {
          "output_type": "display_data",
          "data": {
            "text/plain": [
              "<Figure size 640x480 with 1 Axes>"
            ],
            "image/png": "[encoded data removed]"
          },
          "metadata": {}
        }
      ]
    },
    {
      "cell_type": "code",
      "source": [
        "PATH_TO_MODEL = '/content/drive/MyDrive/go_algo/data/models/'\n",
        "torch.save(model,PATH_TO_MODEL+'flot_model.pt')"
      ],
      "metadata": {
        "id": "KDnojwdPq3iv"
      },
      "execution_count": 30,
      "outputs": []
    },
    {
      "cell_type": "code",
      "source": [
        "test_model = ChangeModel(20,4,1)\n",
        "test_model = torch.load(PATH_TO_MODEL+'flot_model.pt')\n",
        "test_model.eval()"
      ],
      "metadata": {
        "colab": {
          "base_uri": "https://localhost:8080/"
        },
        "id": "A5O4jh7YrSSC",
        "outputId": "2f69bb1a-f0f1-4232-85a3-a5605f2daaee"
      },
      "execution_count": 31,
      "outputs": [
        {
          "output_type": "execute_result",
          "data": {
            "text/plain": [
              "ChangeModel(\n",
              "  (lstm): LSTM(20, 4, batch_first=True)\n",
              "  (lin): Linear(in_features=4, out_features=1, bias=True)\n",
              ")"
            ]
          },
          "metadata": {},
          "execution_count": 31
        }
      ]
    }
  ]
}